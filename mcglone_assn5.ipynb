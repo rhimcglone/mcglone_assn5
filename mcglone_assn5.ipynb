{
 "cells": [
  {
   "cell_type": "markdown",
   "metadata": {},
   "source": [
    "Question 1:"
   ]
  },
  {
   "cell_type": "code",
   "execution_count": 227,
   "metadata": {
    "scrolled": true
   },
   "outputs": [
    {
     "name": "stdout",
     "output_type": "stream",
     "text": [
      "['Person\\tVegetarian\\n', 'Fred\\tNo\\n', 'Jamie\\tNo\\n', 'Shelly\\tYes\\n', 'Eileen\\tNo\\n', 'Willard\\tYes\\n', 'Mike\\tSometimes\\n', 'Anna\\tNo\\n', 'Marie\\tYes\\n', 'Marian\\tSometimes\\n', 'Jessica\\tNo\\n', 'Alan\\tNo\\n', 'Rebecca\\tNo\\n', 'Bonnie\\tNo\\n', 'Mark\\tNo\\n', 'Leslie\\tYes\\n', 'Rachel\\tNo\\n', 'Olivia\\tNo\\n', 'Chelsea\\tNo\\n']\n"
     ]
    }
   ],
   "source": [
    "with open('guest_list.txt') as file_object:\n",
    "    guests=file_object.readlines()\n",
    "\n",
    "print(guests)"
   ]
  },
  {
   "cell_type": "code",
   "execution_count": 228,
   "metadata": {},
   "outputs": [],
   "source": [
    "guest_name = []\n",
    "guest_response = []\n",
    "#create two empty lists\n",
    "\n",
    "for guest in guests:\n",
    "    stripped_line = guest.rstrip()\n",
    "    #remove new line characters\n",
    "    split_line = stripped_line.split()\n",
    "    #split line string on tab into list\n",
    "    guest_name.append(split_line[0])\n",
    "    #append guest_name list\n",
    "    guest_response.append(split_line[1])\n",
    "    #append guest_response list"
   ]
  },
  {
   "cell_type": "code",
   "execution_count": 229,
   "metadata": {},
   "outputs": [
    {
     "name": "stdout",
     "output_type": "stream",
     "text": [
      "['Person', 'Fred', 'Jamie', 'Shelly', 'Eileen', 'Willard', 'Mike', 'Anna', 'Marie', 'Marian', 'Jessica', 'Alan', 'Rebecca', 'Bonnie', 'Mark', 'Leslie', 'Rachel', 'Olivia', 'Chelsea']\n"
     ]
    }
   ],
   "source": [
    "print(guest_name)\n",
    "#print guest_name list"
   ]
  },
  {
   "cell_type": "code",
   "execution_count": 230,
   "metadata": {},
   "outputs": [
    {
     "name": "stdout",
     "output_type": "stream",
     "text": [
      "['Vegetarian', 'No', 'No', 'Yes', 'No', 'Yes', 'Sometimes', 'No', 'Yes', 'Sometimes', 'No', 'No', 'No', 'No', 'No', 'Yes', 'No', 'No', 'No']\n"
     ]
    }
   ],
   "source": [
    "print(guest_response)\n",
    "#print guest_response list"
   ]
  },
  {
   "cell_type": "code",
   "execution_count": 231,
   "metadata": {},
   "outputs": [],
   "source": [
    "turkey_lovers = []\n",
    "#create an empty list\n",
    "\n",
    "for lovers in guest_response:\n",
    "    if lovers == 'No' or lovers == 'Sometimes':\n",
    "            turkey_lovers.append(lovers)\n",
    "            #create a condtional that places no and sometimes responses into the empty list\n",
    "    "
   ]
  },
  {
   "cell_type": "code",
   "execution_count": 232,
   "metadata": {},
   "outputs": [
    {
     "name": "stdout",
     "output_type": "stream",
     "text": [
      "['No', 'No', 'No', 'Sometimes', 'No', 'Sometimes', 'No', 'No', 'No', 'No', 'No', 'No', 'No', 'No']\n"
     ]
    }
   ],
   "source": [
    "print(turkey_lovers)"
   ]
  },
  {
   "cell_type": "code",
   "execution_count": 233,
   "metadata": {},
   "outputs": [
    {
     "data": {
      "text/plain": [
       "14"
      ]
     },
     "execution_count": 233,
     "metadata": {},
     "output_type": "execute_result"
    }
   ],
   "source": [
    "len(turkey_lovers)"
   ]
  },
  {
   "cell_type": "code",
   "execution_count": 234,
   "metadata": {},
   "outputs": [
    {
     "name": "stdout",
     "output_type": "stream",
     "text": [
      "There are 14 people who will be eating turkey at my feast.\n"
     ]
    }
   ],
   "source": [
    "print(f\"There are {len(turkey_lovers)} people who will be eating turkey at my feast.\")"
   ]
  },
  {
   "cell_type": "markdown",
   "metadata": {},
   "source": [
    "Question 2:"
   ]
  },
  {
   "cell_type": "code",
   "execution_count": 235,
   "metadata": {},
   "outputs": [
    {
     "name": "stdout",
     "output_type": "stream",
     "text": [
      "['Max_Guests\\tMin_Pounds\\n', '4\\t5\\n', '6\\t8\\n', '8\\t10\\n', '10\\t13\\n', '12\\t15\\n', '15\\t20\\n', '20\\t25\\n']\n"
     ]
    }
   ],
   "source": [
    "with open('turkey_size.txt') as file_object:\n",
    "    butterball = file_object.readlines()\n",
    "    \n",
    "print(butterball)"
   ]
  },
  {
   "cell_type": "code",
   "execution_count": 236,
   "metadata": {},
   "outputs": [],
   "source": [
    "max_guests = []\n",
    "turkey_size = []\n",
    "\n",
    "\n",
    "for size in butterball:\n",
    "    stripped_line = size.rstrip()\n",
    "    #remove new line characters\n",
    "    split_line = stripped_line.split('\\t')\n",
    "    #split line string on tab into list\n",
    "    max_guests.append(split_line[0])\n",
    "    #append max_guests list\n",
    "    turkey_size.append(split_line[1])\n",
    "    #append turkey_size list"
   ]
  },
  {
   "cell_type": "code",
   "execution_count": 237,
   "metadata": {},
   "outputs": [
    {
     "name": "stdout",
     "output_type": "stream",
     "text": [
      "['Max_Guests', '4', '6', '8', '10', '12', '15', '20']\n"
     ]
    }
   ],
   "source": [
    "print(max_guests)"
   ]
  },
  {
   "cell_type": "code",
   "execution_count": 238,
   "metadata": {},
   "outputs": [
    {
     "name": "stdout",
     "output_type": "stream",
     "text": [
      "['Min_Pounds', '5', '8', '10', '13', '15', '20', '25']\n"
     ]
    }
   ],
   "source": [
    "print(turkey_size)"
   ]
  },
  {
   "cell_type": "code",
   "execution_count": 239,
   "metadata": {},
   "outputs": [],
   "source": [
    "min_turkey = turkey_size[1:8]\n",
    "#remove the header"
   ]
  },
  {
   "cell_type": "code",
   "execution_count": 240,
   "metadata": {},
   "outputs": [],
   "source": [
    "number_guests = max_guests[1:8]\n",
    "#remove the header"
   ]
  },
  {
   "cell_type": "code",
   "execution_count": 241,
   "metadata": {},
   "outputs": [
    {
     "name": "stdout",
     "output_type": "stream",
     "text": [
      "20\n"
     ]
    }
   ],
   "source": [
    "for i in range(0,len(min_turkey)):\n",
    "    if int(number_guests[i]) > 14 and int(number_guests[i]) < 16:\n",
    "        print(min_turkey[i])\n",
    "        #create a conditional that prints the weight of a turkey for more than 14 people but less than 16 people"
   ]
  },
  {
   "cell_type": "code",
   "execution_count": 242,
   "metadata": {},
   "outputs": [
    {
     "name": "stdout",
     "output_type": "stream",
     "text": [
      "The minimum size turkey I need to buy is 20 pounds.\n"
     ]
    }
   ],
   "source": [
    "print(\"The minimum size turkey I need to buy is 20 pounds.\")\n",
    "#print the minimum size turkey for 14 people"
   ]
  },
  {
   "cell_type": "markdown",
   "metadata": {},
   "source": [
    "Question 3:"
   ]
  },
  {
   "cell_type": "code",
   "execution_count": 243,
   "metadata": {},
   "outputs": [
    {
     "name": "stdout",
     "output_type": "stream",
     "text": [
      "['Person\\tVegetarian\\n', 'Fred\\tNo\\n', 'Jamie\\tNo\\n', 'Shelly\\tYes\\n', 'Eileen\\tNo\\n', 'Willard\\tYes\\n', 'Mike\\tSometimes\\n', 'Anna\\tNo\\n', 'Marie\\tYes\\n', 'Marian\\tSometimes\\n', 'Jessica\\tNo\\n', 'Alan\\tNo\\n', 'Rebecca\\tNo\\n', 'Bonnie\\tNo\\n', 'Mark\\tNo\\n', 'Leslie\\tYes\\n', 'Rachel\\tNo\\n', 'Olivia\\tNo\\n', 'Chelsea\\tNo\\n']\n"
     ]
    }
   ],
   "source": [
    "with open('guest_list.txt') as file_object:\n",
    "    guests=file_object.readlines()\n",
    "\n",
    "print(guests)"
   ]
  },
  {
   "cell_type": "code",
   "execution_count": 244,
   "metadata": {},
   "outputs": [
    {
     "name": "stdout",
     "output_type": "stream",
     "text": [
      "['Person\\tVegetarian\\n', 'Fred\\tNo\\n', 'Jamie\\tNo\\n', 'Shelly\\tYes\\n', 'Eileen\\tNo\\n', 'Willard\\tYes\\n', 'Mike\\tSometimes\\n', 'Anna\\tNo\\n', 'Marie\\tYes\\n', 'Marian\\tSometimes\\n', 'Jessica\\tNo\\n', 'Alan\\tNo\\n', 'Rebecca\\tNo\\n', 'Bonnie\\tNo\\n', 'Mark\\tNo\\n', 'Leslie\\tYes\\n', 'Rachel\\tNo\\n', 'Olivia\\tNo\\n', 'Chelsea\\tNo\\n', 'Larry\\tNo\\n', 'Moe\\tYes\\n', 'Curly\\tSometimes\\n']\n"
     ]
    }
   ],
   "source": [
    "with open('guest_list.txt') as file_object:\n",
    "    guests=file_object.readlines()\n",
    "    \n",
    "guests.append('Larry\\tNo\\n')\n",
    "#append guests with Larry's information\n",
    "guests.append('Moe\\tYes\\n')\n",
    "#append guests with Moe's information\n",
    "guests.append('Curly\\tSometimes\\n')\n",
    "#append guests with Curly's information\n",
    "\n",
    "print(guests)\n",
    "#print the appended list"
   ]
  },
  {
   "cell_type": "code",
   "execution_count": 245,
   "metadata": {},
   "outputs": [],
   "source": [
    "guest_name = []\n",
    "guest_response = []\n",
    "#create 2 new empty lists\n",
    "\n",
    "for guest in guests:\n",
    "    stripped_line = guest.rstrip()\n",
    "    #remove new line characters\n",
    "    split_line = stripped_line.split()\n",
    "    #split line string on tab into list\n",
    "    guest_name.append(split_line[0])\n",
    "    #append guest_name list\n",
    "    guest_response.append(split_line[1])\n",
    "    #append guest_response list"
   ]
  },
  {
   "cell_type": "code",
   "execution_count": 246,
   "metadata": {},
   "outputs": [
    {
     "name": "stdout",
     "output_type": "stream",
     "text": [
      "['Person', 'Fred', 'Jamie', 'Shelly', 'Eileen', 'Willard', 'Mike', 'Anna', 'Marie', 'Marian', 'Jessica', 'Alan', 'Rebecca', 'Bonnie', 'Mark', 'Leslie', 'Rachel', 'Olivia', 'Chelsea', 'Larry', 'Moe', 'Curly']\n"
     ]
    }
   ],
   "source": [
    "print(guest_name)"
   ]
  },
  {
   "cell_type": "code",
   "execution_count": 247,
   "metadata": {},
   "outputs": [
    {
     "name": "stdout",
     "output_type": "stream",
     "text": [
      "['Vegetarian', 'No', 'No', 'Yes', 'No', 'Yes', 'Sometimes', 'No', 'Yes', 'Sometimes', 'No', 'No', 'No', 'No', 'No', 'Yes', 'No', 'No', 'No', 'No', 'Yes', 'Sometimes']\n"
     ]
    }
   ],
   "source": [
    "print(guest_response)"
   ]
  },
  {
   "cell_type": "code",
   "execution_count": 248,
   "metadata": {},
   "outputs": [],
   "source": [
    "turkey_lovers = []\n",
    "\n",
    "for lovers in guest_response:\n",
    "    if lovers == 'No' or lovers == 'Sometimes':\n",
    "            turkey_lovers.append(lovers)\n",
    "            #create a condtional that places no and sometimes responses into the empty list"
   ]
  },
  {
   "cell_type": "code",
   "execution_count": 249,
   "metadata": {},
   "outputs": [
    {
     "name": "stdout",
     "output_type": "stream",
     "text": [
      "['No', 'No', 'No', 'Sometimes', 'No', 'Sometimes', 'No', 'No', 'No', 'No', 'No', 'No', 'No', 'No', 'No', 'Sometimes']\n"
     ]
    }
   ],
   "source": [
    "print(turkey_lovers)"
   ]
  },
  {
   "cell_type": "code",
   "execution_count": 250,
   "metadata": {},
   "outputs": [
    {
     "data": {
      "text/plain": [
       "16"
      ]
     },
     "execution_count": 250,
     "metadata": {},
     "output_type": "execute_result"
    }
   ],
   "source": [
    "len(turkey_lovers)"
   ]
  },
  {
   "cell_type": "code",
   "execution_count": 251,
   "metadata": {},
   "outputs": [
    {
     "name": "stdout",
     "output_type": "stream",
     "text": [
      "There are now 16 people who will be eating turkey at my feast.\n"
     ]
    }
   ],
   "source": [
    "print(f\"There are now {len(turkey_lovers)} people who will be eating turkey at my feast.\")"
   ]
  },
  {
   "cell_type": "code",
   "execution_count": 252,
   "metadata": {},
   "outputs": [
    {
     "name": "stdout",
     "output_type": "stream",
     "text": [
      "25\n"
     ]
    }
   ],
   "source": [
    "for i in range(0,len(min_turkey)):\n",
    "    if int(number_guests[i]) > 16:\n",
    "        print(min_turkey[i])\n",
    "        #create a conditional that determines the weight of the turkey needed for 16 or more people"
   ]
  },
  {
   "cell_type": "code",
   "execution_count": 253,
   "metadata": {
    "scrolled": true
   },
   "outputs": [
    {
     "name": "stdout",
     "output_type": "stream",
     "text": [
      "The minimum size turkey I now need to buy is 25 pounds.\n"
     ]
    }
   ],
   "source": [
    "print(\"The minimum size turkey I now need to buy is 25 pounds.\")\n",
    "#print the minimum size turkey for 16 people"
   ]
  }
 ],
 "metadata": {
  "kernelspec": {
   "display_name": "Python 3",
   "language": "python",
   "name": "python3"
  },
  "language_info": {
   "codemirror_mode": {
    "name": "ipython",
    "version": 3
   },
   "file_extension": ".py",
   "mimetype": "text/x-python",
   "name": "python",
   "nbconvert_exporter": "python",
   "pygments_lexer": "ipython3",
   "version": "3.8.5"
  }
 },
 "nbformat": 4,
 "nbformat_minor": 4
}
